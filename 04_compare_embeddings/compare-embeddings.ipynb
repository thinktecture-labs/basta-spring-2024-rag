{
 "cells": [
  {
   "cell_type": "markdown",
   "metadata": {},
   "source": [
    "# Compare embeddings performance\n",
    "\n",
    "We use different approaches to create embeddings from the same texts and compare their performance.\n",
    "\n",
    "## Configuration:\n",
    "\n",
    "Please select the model you want to use for the transformations."
   ]
  },
  {
   "cell_type": "code",
   "execution_count": 1,
   "metadata": {
    "dotnet_interactive": {
     "language": "csharp"
    },
    "polyglot_notebook": {
     "kernelName": "csharp"
    }
   },
   "outputs": [],
   "source": [
    "llm_source = \"openai\" # openai or hf for huggingface\n",
    "embedding_source = \"openai\" # openai or hf for huggingface\n",
    "\n",
    "llm_model = \"gpt-3.5-turbo\"\n",
    "#llm_model = \"gpt-4-1106-preview\"\n",
    "temperature = 0\n",
    "\n",
    "embeddings_model = \"text-embedding-ada-002\"\n",
    "\n",
    "markdown_documents_path = \"C:\\\\Dev\\\\tt\\\\tt-readme\"\n",
    "\n",
    "use_cached_documents = True\n",
    "use_cached_transforms = True\n",
    "reindex_documents = False"
   ]
  },
  {
   "cell_type": "markdown",
   "metadata": {},
   "source": [
    "## Test different approaches of indexing\n",
    "\n",
    "This will\n",
    "- create a question for each document,\n",
    "- create an answer for each document and\n",
    "- summarize each document"
   ]
  },
  {
   "cell_type": "markdown",
   "metadata": {},
   "source": [
    "## Load and split markdown contents of the TT Readme\n"
   ]
  },
  {
   "cell_type": "code",
   "execution_count": 2,
   "metadata": {
    "dotnet_interactive": {
     "language": "csharp"
    },
    "polyglot_notebook": {
     "kernelName": "csharp"
    }
   },
   "outputs": [
    {
     "name": "stdout",
     "output_type": "stream",
     "text": [
      "Skipping loading documents from markdown files\n"
     ]
    }
   ],
   "source": [
    "if use_cached_documents:\n",
    "    print(\"Skipping loading documents from markdown files\")\n",
    "else:\n",
    "\n",
    "    from langchain.document_loaders import DirectoryLoader, TextLoader\n",
    "    from langchain.text_splitter import MarkdownHeaderTextSplitter\n",
    "\n",
    "    readme_documents = DirectoryLoader(\n",
    "        markdown_documents_path,\n",
    "        glob=\"**/*.md\",\n",
    "        loader_cls=TextLoader\n",
    "        ).load()\n",
    "\n",
    "    headers_to_split_on = [\n",
    "        (\"#\", \"Header 1\"),\n",
    "        (\"##\", \"Header 2\"),\n",
    "    ]\n",
    "\n",
    "    splitter = MarkdownHeaderTextSplitter(headers_to_split_on)\n",
    "\n",
    "    split_documents = []\n",
    "    for doc in readme_documents:\n",
    "        result = splitter.split_text(doc.page_content)\n",
    "\n",
    "        if isinstance(result, list):\n",
    "            for res in result:\n",
    "                res.metadata.update(doc.metadata)\n",
    "            split_documents.extend(result)\n",
    "        else:\n",
    "            result.metadata.update(doc.metadata)\n",
    "            split_documents.append(result)\n",
    "\n",
    "    # For brevity, reduce amount of entries to a few only\n",
    "    # split_documents = split_documents[50:60]\n",
    "\n",
    "    index  = 1\n",
    "    for doc in split_documents:\n",
    "        doc.metadata[\"index\"] = index\n",
    "        index += 1\n",
    "        doc.metadata[\"original_content\"] = doc.page_content\n",
    "        #print(doc.metadata)\n",
    "        #print(\"\\n\")"
   ]
  },
  {
   "cell_type": "markdown",
   "metadata": {},
   "source": [
    "### Persist the data to files or load cached files"
   ]
  },
  {
   "cell_type": "code",
   "execution_count": 3,
   "metadata": {
    "dotnet_interactive": {
     "language": "csharp"
    },
    "polyglot_notebook": {
     "kernelName": "csharp"
    }
   },
   "outputs": [
    {
     "name": "stdout",
     "output_type": "stream",
     "text": [
      "Loading documents from file\n"
     ]
    },
    {
     "ename": "FileNotFoundError",
     "evalue": "[Errno 2] No such file or directory: 'cache/split_documents.pickle'",
     "output_type": "error",
     "traceback": [
      "\u001b[1;31m---------------------------------------------------------------------------\u001b[0m",
      "\u001b[1;31mFileNotFoundError\u001b[0m                         Traceback (most recent call last)",
      "Cell \u001b[1;32mIn[3], line 5\u001b[0m\n\u001b[0;32m      3\u001b[0m \u001b[38;5;28;01mif\u001b[39;00m (use_cached_documents):\n\u001b[0;32m      4\u001b[0m     \u001b[38;5;28mprint\u001b[39m(\u001b[38;5;124m\"\u001b[39m\u001b[38;5;124mLoading documents from file\u001b[39m\u001b[38;5;124m\"\u001b[39m)\n\u001b[1;32m----> 5\u001b[0m     \u001b[38;5;28;01mwith\u001b[39;00m \u001b[38;5;28;43mopen\u001b[39;49m\u001b[43m(\u001b[49m\u001b[38;5;124;43m\"\u001b[39;49m\u001b[38;5;124;43mcache/split_documents.pickle\u001b[39;49m\u001b[38;5;124;43m\"\u001b[39;49m\u001b[43m,\u001b[49m\u001b[43m \u001b[49m\u001b[38;5;124;43m\"\u001b[39;49m\u001b[38;5;124;43mrb\u001b[39;49m\u001b[38;5;124;43m\"\u001b[39;49m\u001b[43m)\u001b[49m \u001b[38;5;28;01mas\u001b[39;00m f:\n\u001b[0;32m      6\u001b[0m         split_documents \u001b[38;5;241m=\u001b[39m pickle\u001b[38;5;241m.\u001b[39mload(f)\n\u001b[0;32m      7\u001b[0m \u001b[38;5;28;01melse\u001b[39;00m:\n",
      "File \u001b[1;32mc:\\Users\\SebastianGingter\\miniconda3\\envs\\basta2024-04-compare-embeddings\\lib\\site-packages\\IPython\\core\\interactiveshell.py:308\u001b[0m, in \u001b[0;36m_modified_open\u001b[1;34m(file, *args, **kwargs)\u001b[0m\n\u001b[0;32m    301\u001b[0m \u001b[38;5;28;01mif\u001b[39;00m file \u001b[38;5;129;01min\u001b[39;00m {\u001b[38;5;241m0\u001b[39m, \u001b[38;5;241m1\u001b[39m, \u001b[38;5;241m2\u001b[39m}:\n\u001b[0;32m    302\u001b[0m     \u001b[38;5;28;01mraise\u001b[39;00m \u001b[38;5;167;01mValueError\u001b[39;00m(\n\u001b[0;32m    303\u001b[0m         \u001b[38;5;124mf\u001b[39m\u001b[38;5;124m\"\u001b[39m\u001b[38;5;124mIPython won\u001b[39m\u001b[38;5;124m'\u001b[39m\u001b[38;5;124mt let you open fd=\u001b[39m\u001b[38;5;132;01m{\u001b[39;00mfile\u001b[38;5;132;01m}\u001b[39;00m\u001b[38;5;124m by default \u001b[39m\u001b[38;5;124m\"\u001b[39m\n\u001b[0;32m    304\u001b[0m         \u001b[38;5;124m\"\u001b[39m\u001b[38;5;124mas it is likely to crash IPython. If you know what you are doing, \u001b[39m\u001b[38;5;124m\"\u001b[39m\n\u001b[0;32m    305\u001b[0m         \u001b[38;5;124m\"\u001b[39m\u001b[38;5;124myou can use builtins\u001b[39m\u001b[38;5;124m'\u001b[39m\u001b[38;5;124m open.\u001b[39m\u001b[38;5;124m\"\u001b[39m\n\u001b[0;32m    306\u001b[0m     )\n\u001b[1;32m--> 308\u001b[0m \u001b[38;5;28;01mreturn\u001b[39;00m io_open(file, \u001b[38;5;241m*\u001b[39margs, \u001b[38;5;241m*\u001b[39m\u001b[38;5;241m*\u001b[39mkwargs)\n",
      "\u001b[1;31mFileNotFoundError\u001b[0m: [Errno 2] No such file or directory: 'cache/split_documents.pickle'"
     ]
    }
   ],
   "source": [
    "import pickle\n",
    "\n",
    "if (use_cached_documents):\n",
    "    print(\"Loading documents from file\")\n",
    "    with open(\"cache/split_documents.pickle\", \"rb\") as f:\n",
    "        split_documents = pickle.load(f)\n",
    "else:\n",
    "    print(\"Writing documents to file\")\n",
    "    with open(\"cache/split_documents.pickle\", \"wb\") as f:\n",
    "        pickle.dump(split_documents, f)"
   ]
  },
  {
   "cell_type": "markdown",
   "metadata": {},
   "source": [
    "## Massage content into new embedding documents"
   ]
  },
  {
   "cell_type": "code",
   "execution_count": null,
   "metadata": {
    "dotnet_interactive": {
     "language": "csharp"
    },
    "polyglot_notebook": {
     "kernelName": "csharp"
    }
   },
   "outputs": [],
   "source": [
    "from langchain.chat_models.openai import ChatOpenAI\n",
    "from langchain.chains import LLMChain\n",
    "from langchain.prompts import PromptTemplate\n",
    "\n",
    "llm = ChatOpenAI(model=llm_model, temperature=temperature)\n",
    "\n",
    "def build_chain(prompt):\n",
    "    return LLMChain(llm=llm, prompt=PromptTemplate(input_variables=[\"input\"], template=prompt))\n",
    "\n",
    "question_chain = build_chain(\"Formuliere drei verschiedene deutsche Fragen, die der folgende Text beantwortet: {input}\")\n",
    "answer_chain = build_chain(\"Erkläre in zwei bis drei deutschen Sätzen, was der folgende Text beantwortet: {input}\")\n",
    "summarize_chain = build_chain(\"Erstelle eine kurze deutsche Zusammenfassung des folgenden Textes: {input}\")"
   ]
  },
  {
   "cell_type": "code",
   "execution_count": null,
   "metadata": {
    "dotnet_interactive": {
     "language": "csharp"
    },
    "polyglot_notebook": {
     "kernelName": "csharp"
    }
   },
   "outputs": [],
   "source": [
    "import copy\n",
    "\n",
    "def transform_documents(chain, file):\n",
    "    if use_cached_transforms:\n",
    "        print(f\"Loading cached file {file}\")\n",
    "        with open(f\"cache/{llm_model}_{file}_documents.pickle\", \"rb\") as f:\n",
    "            result = pickle.load(f)\n",
    "        return result\n",
    "    else:\n",
    "        result = copy.deepcopy(split_documents)\n",
    "        for doc in result:\n",
    "            print(f\"Transforming {file} document {doc.metadata['index']} with model {llm_model}\")\n",
    "            doc.metadata[\"original_content\"] = copy.copy(doc.page_content)\n",
    "            doc.page_content = chain.run(doc.page_content)\n",
    "        print(f\"Writing {file} documents from model {llm_model} to file\")\n",
    "        with open(f\"cache/{llm_model}_{file}_documents.pickle\", \"wb\") as f:\n",
    "            pickle.dump(result, f)\n",
    "        return result\n",
    "\n",
    "question_documents = transform_documents(question_chain, \"questions\")\n",
    "answer_documents = transform_documents(answer_chain, \"answers\")\n",
    "summary_documents = transform_documents(summarize_chain, \"summaries\")"
   ]
  },
  {
   "cell_type": "markdown",
   "metadata": {},
   "source": [
    "## Prepare Embeddings model"
   ]
  },
  {
   "cell_type": "code",
   "execution_count": null,
   "metadata": {
    "dotnet_interactive": {
     "language": "csharp"
    },
    "polyglot_notebook": {
     "kernelName": "csharp"
    }
   },
   "outputs": [],
   "source": [
    "from langchain.embeddings.openai import OpenAIEmbeddings\n",
    "\n",
    "embeddings = None\n",
    "\n",
    "if embedding_source == \"openai\":\n",
    "    embeddings = OpenAIEmbeddings(model=embeddings_model)"
   ]
  },
  {
   "cell_type": "markdown",
   "metadata": {},
   "source": [
    "## Prepare store"
   ]
  },
  {
   "cell_type": "code",
   "execution_count": null,
   "metadata": {
    "dotnet_interactive": {
     "language": "csharp"
    },
    "polyglot_notebook": {
     "kernelName": "csharp"
    }
   },
   "outputs": [],
   "source": [
    "from langchain.vectorstores import Qdrant\n",
    "\n",
    "def store(documents, collection_name):\n",
    "    Qdrant.from_documents(\n",
    "        documents,\n",
    "        url=\"http://localhost:6333\",\n",
    "        embedding=embeddings,\n",
    "        collection_name=collection_name,\n",
    "        force_recreate=True,\n",
    "    )\n",
    "\n",
    "pure_collection = f\"{embeddings_model}-{llm_model}-p\"\n",
    "question_collection = f\"{embeddings_model}-{llm_model}-q\"\n",
    "answer_collection = f\"{embeddings_model}-{llm_model}-a\"\n",
    "summary_collection = f\"{embeddings_model}-{llm_model}-s\"\n",
    "\n",
    "collections = [pure_collection, question_collection, answer_collection, summary_collection]"
   ]
  },
  {
   "cell_type": "markdown",
   "metadata": {},
   "source": [
    "## Create embeddings and store them in different collections"
   ]
  },
  {
   "cell_type": "code",
   "execution_count": null,
   "metadata": {
    "dotnet_interactive": {
     "language": "csharp"
    },
    "polyglot_notebook": {
     "kernelName": "csharp"
    }
   },
   "outputs": [],
   "source": [
    "if reindex_documents:\n",
    "    store(split_documents, pure_collection)\n",
    "    store(question_documents, question_collection)\n",
    "    store(answer_documents, answer_collection)\n",
    "    store(summary_documents, summary_collection)"
   ]
  },
  {
   "cell_type": "markdown",
   "metadata": {},
   "source": [
    "## Search with a query in the different indexes"
   ]
  },
  {
   "cell_type": "code",
   "execution_count": null,
   "metadata": {
    "dotnet_interactive": {
     "language": "csharp"
    },
    "polyglot_notebook": {
     "kernelName": "csharp"
    }
   },
   "outputs": [],
   "source": [
    "queries = [\n",
    "    \"Was mache ich, wenn ich meinen letzten Zug verpasst habe?\",\n",
    "    \"Nach wie vielen Jahren kann ich mein Notebook erneuern?\",\n",
    "    \"Was ist MITOD?\",\n",
    "]"
   ]
  },
  {
   "cell_type": "code",
   "execution_count": null,
   "metadata": {
    "dotnet_interactive": {
     "language": "csharp"
    },
    "polyglot_notebook": {
     "kernelName": "csharp"
    }
   },
   "outputs": [],
   "source": [
    "from qdrant_client import QdrantClient\n",
    "\n",
    "client = QdrantClient(\"http://localhost:6333\")\n",
    "\n",
    "def search(collection, query):\n",
    "    return Qdrant(client, collection, embeddings)._similarity_search_with_relevance_scores(query)\n",
    "\n",
    "collections = [pure_collection, question_collection, answer_collection, summary_collection]\n",
    "\n",
    "result_table = []\n",
    "result_table.append([\"Collection\"] + queries)\n",
    "\n",
    "for collection in collections:\n",
    "    row = []\n",
    "    for query in queries:\n",
    "        print(f\"Searching {collection} for {query}\")\n",
    "        search_results = search(collection, query)\n",
    "\n",
    "        row.append(\"\\n\".join([f\"{document.metadata['index']} - {score}\" for document, score in search_results]))\n",
    "\n",
    "    result_table.append([collection] + row)"
   ]
  },
  {
   "cell_type": "code",
   "execution_count": null,
   "metadata": {
    "dotnet_interactive": {
     "language": "csharp"
    },
    "polyglot_notebook": {
     "kernelName": "csharp"
    }
   },
   "outputs": [],
   "source": [
    "from tabulate import tabulate\n",
    "\n",
    "print(tabulate(result_table, tablefmt=\"grid\", headers=\"firstrow\"))"
   ]
  },
  {
   "cell_type": "markdown",
   "metadata": {},
   "source": [
    "# To check a result, put the index in the following cell and run it"
   ]
  },
  {
   "cell_type": "code",
   "execution_count": null,
   "metadata": {
    "dotnet_interactive": {
     "language": "csharp"
    },
    "polyglot_notebook": {
     "kernelName": "csharp"
    }
   },
   "outputs": [],
   "source": [
    "found_index = 31\n",
    "\n",
    "# find the document with the metadata index of the found_index variable\n",
    "\n",
    "found_document = None\n",
    "for doc in split_documents:\n",
    "    if doc.metadata[\"index\"] == found_index:\n",
    "        found_document = doc\n",
    "        break\n",
    "\n",
    "print(f'{found_document.page_content}\\n\\n')\n",
    "print(f'{found_document.metadata}\\n\\n')\n",
    "\n",
    "for doc in question_documents:\n",
    "    if doc.metadata[\"index\"] == found_index:\n",
    "        found_document = doc\n",
    "        break\n",
    "\n",
    "print(f\"Questions: {found_document.page_content}\\n\\n\")\n",
    "\n",
    "for doc in answer_documents:\n",
    "    if doc.metadata[\"index\"] == found_index:\n",
    "        found_document = doc\n",
    "        break\n",
    "\n",
    "print(f\"Answers: {found_document.page_content}\\n\\n\")\n",
    "\n",
    "for doc in summary_documents:\n",
    "    if doc.metadata[\"index\"] == found_index:\n",
    "        found_document = doc\n",
    "        break\n",
    "\n",
    "print(f\"Summary: {found_document.page_content}\\n\\n\")\n"
   ]
  },
  {
   "cell_type": "markdown",
   "metadata": {},
   "source": [
    "# RAG (Teaser)"
   ]
  },
  {
   "cell_type": "code",
   "execution_count": null,
   "metadata": {
    "dotnet_interactive": {
     "language": "csharp"
    },
    "polyglot_notebook": {
     "kernelName": "csharp"
    }
   },
   "outputs": [],
   "source": [
    "from langchain.prompts import ChatPromptTemplate\n",
    "from langchain.chat_models import ChatOpenAI\n",
    "from langchain.schema.output_parser import StrOutputParser\n",
    "\n",
    "# Document\n",
    "found_index = 31\n",
    "found_document = None\n",
    "for doc in split_documents:\n",
    "    if doc.metadata[\"index\"] == found_index:\n",
    "        found_document = doc\n",
    "        break\n",
    "\n",
    "query = \"Nach wie vielen Jahren kann ich mein Notebook erneuern?\"\n",
    "\n",
    "# Prompt\n",
    "template = f\"\"\"Beantworte die Frage nur aufgrund der folgenenden Informationen:\n",
    "{found_document.page_content}\n",
    "\n",
    "Frage: {query}\n",
    "\"\"\"\n",
    "\n",
    "# RAG chain\n",
    "chain = (\n",
    "    ChatPromptTemplate.from_template(template)\n",
    "    | ChatOpenAI(model_name = 'gpt-4-1106-preview')\n",
    "    | StrOutputParser()\n",
    ")\n",
    "\n",
    "chain.invoke(query)"
   ]
  }
 ],
 "metadata": {
  "kernelspec": {
   "display_name": "Python 3",
   "language": "python",
   "name": "python3"
  },
  "language_info": {
   "codemirror_mode": {
    "name": "ipython",
    "version": 3
   },
   "file_extension": ".py",
   "mimetype": "text/x-python",
   "name": "python",
   "nbconvert_exporter": "python",
   "pygments_lexer": "ipython3",
   "version": "3.9.18"
  },
  "orig_nbformat": 4,
  "polyglot_notebook": {
   "kernelInfo": {
    "defaultKernelName": "csharp",
    "items": [
     {
      "aliases": [],
      "name": "csharp"
     }
    ]
   }
  }
 },
 "nbformat": 4,
 "nbformat_minor": 2
}
